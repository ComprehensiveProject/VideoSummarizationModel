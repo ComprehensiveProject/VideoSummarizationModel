{
 "cells": [
  {
   "cell_type": "code",
   "execution_count": 1,
   "id": "initial_id",
   "metadata": {
    "collapsed": true,
    "ExecuteTime": {
     "end_time": "2024-06-01T14:22:30.010776200Z",
     "start_time": "2024-06-01T14:22:19.610467300Z"
    }
   },
   "outputs": [],
   "source": [
    "from transformers import pipeline\n",
    "import cv2\n",
    "from nltk.corpus import stopwords\n",
    "from nltk.tokenize import word_tokenize\n",
    "from collections import Counter\n",
    "import nltk\n",
    "import os\n",
    "from google.cloud import speech_v1 as speech\n",
    "from google.cloud import storage\n",
    "import io\n",
    "from pydub import AudioSegment\n",
    "import math\n",
    "from tqdm import tqdm\n",
    "from transformers import MT5Tokenizer, MT5ForConditionalGeneration\n",
    "import sentencepiece"
   ]
  },
  {
   "cell_type": "code",
   "execution_count": 2,
   "outputs": [
    {
     "name": "stderr",
     "output_type": "stream",
     "text": [
      "[nltk_data] Downloading package punkt to\n",
      "[nltk_data]     C:\\Users\\jwoo3\\AppData\\Roaming\\nltk_data...\n",
      "[nltk_data]   Package punkt is already up-to-date!\n",
      "[nltk_data] Downloading package stopwords to\n",
      "[nltk_data]     C:\\Users\\jwoo3\\AppData\\Roaming\\nltk_data...\n",
      "[nltk_data]   Package stopwords is already up-to-date!\n"
     ]
    }
   ],
   "source": [
    "nltk.download('punkt')\n",
    "nltk.download('stopwords')\n",
    "os.environ[\"GOOGLE_APPLICATION_CREDENTIALS\"] = \"interview-400010-9abf1ded3113.json\"\n",
    "\n",
    "def extract_keywords(text):\n",
    "    stop_words = set(stopwords.words('english')) | set(stopwords.words('korean'))\n",
    "    words = word_tokenize(text)\n",
    "    filtered_words = [word for word in words if word.isalnum() and word.lower() not in stop_words]\n",
    "    keyword_freq = Counter(filtered_words)\n",
    "    return keyword_freq.most_common(10)\n",
    "\n",
    "def generate_summary(text, max_length):\n",
    "    tokenizer = MT5Tokenizer.from_pretrained(\"csebuetnlp/mT5_multilingual_XLSum\")\n",
    "    model = MT5ForConditionalGeneration.from_pretrained(\"csebuetnlp/mT5_multilingual_XLSum\")\n",
    "    summarizer = pipeline(\"summarization\", model=model, tokenizer=tokenizer)\n",
    "\n",
    "    max_input_length = 512  # mT5 모델의 최대 입력 길이\n",
    "\n",
    "    # Tokenize the input text and split it into chunks of max_input_length tokens\n",
    "    tokens = tokenizer(text, return_tensors=\"pt\", truncation=True, padding=\"longest\").input_ids[0]\n",
    "    chunks = [tokens[i:i + max_input_length] for i in range(0, len(tokens), max_input_length)]\n",
    "\n",
    "    summaries = []\n",
    "    for chunk in tqdm(chunks, desc=\"Summarizing chunks\"):\n",
    "        chunk_text = tokenizer.decode(chunk, skip_special_tokens=True)\n",
    "        summary_max_length = max(5, min(max_length, 512))\n",
    "        summary_min_length = max(1, int(summary_max_length * 0.7))\n",
    "        summary = summarizer(chunk_text, max_length=summary_max_length, min_length=summary_min_length, do_sample=False)[0]['summary_text']\n",
    "        summaries.append(summary)\n",
    "\n",
    "    return \" \".join(summaries)\n",
    "\n",
    "def convert_to_vertical(input_path, output_path):\n",
    "    cap = cv2.VideoCapture(input_path)\n",
    "\n",
    "    if not cap.isOpened():\n",
    "        print(f\"Error: Unable to open video file {input_path}\")\n",
    "        return\n",
    "\n",
    "    fourcc = cv2.VideoWriter_fourcc(*'XVID')\n",
    "    out = cv2.VideoWriter(output_path, fourcc, 20.0, (1080, 1920))\n",
    "\n",
    "    while cap.isOpened():\n",
    "        ret, frame = cap.read()\n",
    "        if not ret:\n",
    "            break\n",
    "\n",
    "        height, width, _ = frame.shape\n",
    "        if width > height:\n",
    "            new_height = int((width / 9) * 16)\n",
    "            top = (new_height - height) // 2\n",
    "            bottom = new_height - height - top\n",
    "            frame = cv2.copyMakeBorder(frame, top, bottom, 0, 0, cv2.BORDER_CONSTANT, value=(0, 0, 0))\n",
    "        else:\n",
    "            new_width = int((height / 16) * 9)\n",
    "            left = (new_width - width) // 2\n",
    "            right = new_width - width - left\n",
    "            frame = cv2.copyMakeBorder(frame, 0, 0, left, right, cv2.BORDER_CONSTANT, value=(0, 0, 0))\n",
    "\n",
    "        out.write(frame)\n",
    "\n",
    "    cap.release()\n",
    "    out.release()\n",
    "\n",
    "def transcribe_audio_chunk(audio_chunk, language_code, sample_rate):\n",
    "    client = speech.SpeechClient()\n",
    "    audio = speech.RecognitionAudio(content=audio_chunk)\n",
    "    config = speech.RecognitionConfig(\n",
    "        encoding=speech.RecognitionConfig.AudioEncoding.LINEAR16,\n",
    "        sample_rate_hertz=sample_rate,\n",
    "        language_code=language_code,\n",
    "    )\n",
    "\n",
    "    response = client.recognize(config=config, audio=audio)\n",
    "\n",
    "    transcript = \"\"\n",
    "    for result in response.results:\n",
    "        transcript += result.alternatives[0].transcript\n",
    "    return transcript\n",
    "\n",
    "def transcribe_audio(audio_path, language_code):\n",
    "    audio = AudioSegment.from_file(audio_path)\n",
    "    audio = audio.set_channels(1)  # 오디오를 모노로 변환\n",
    "    sample_rate = audio.frame_rate\n",
    "    chunk_size = 10000  # 10 seconds per chunk\n",
    "    total_chunks = math.ceil(len(audio) / chunk_size)\n",
    "    transcript = \"\"\n",
    "\n",
    "    for i in tqdm(range(total_chunks), desc=\"Transcribing audio\"):\n",
    "        start = i * chunk_size\n",
    "        end = start + chunk_size\n",
    "        audio_chunk = audio[start:end]\n",
    "\n",
    "        audio_chunk.export(\"temp_chunk.wav\", format=\"wav\")\n",
    "        with io.open(\"temp_chunk.wav\", \"rb\") as audio_file:\n",
    "            content = audio_file.read()\n",
    "            transcript += transcribe_audio_chunk(content, language_code, sample_rate)\n",
    "\n",
    "    return transcript\n",
    "\n",
    "def process_video(file_path, language_code, duration, output_video_path):\n",
    "    transcript = transcribe_audio(file_path, language_code)\n",
    "    print(\"Transcript:\", transcript[:500])  # 처음 500자만 출력\n",
    "    summary = generate_summary(transcript, max_length=duration)\n",
    "    print(\"Summary:\", summary)\n",
    "    convert_to_vertical(file_path, output_video_path)\n",
    "    return summary, output_video_path\n"
   ],
   "metadata": {
    "collapsed": false,
    "ExecuteTime": {
     "end_time": "2024-06-01T14:22:51.206471700Z",
     "start_time": "2024-06-01T14:22:49.960325300Z"
    }
   },
   "id": "d62644b1545d80f7"
  },
  {
   "cell_type": "code",
   "execution_count": 3,
   "outputs": [
    {
     "name": "stderr",
     "output_type": "stream",
     "text": [
      "Transcribing audio: 100%|██████████| 60/60 [02:24<00:00,  2.40s/it]\n"
     ]
    },
    {
     "name": "stdout",
     "output_type": "stream",
     "text": [
      "Transcript: 여러분 안녕하십니까 오늘은 저희가 단독 취재한 내용으로 뉴스 시작하겠습니다 다음 주 월요일부터는 병원에 갈 때신분증을 꼭 챙겨야 합니다 환자가 건강보험 자격이 있는지 혹시 다른 사람 명의로 진료받는 건 아닌지 병원이 확인하기 위해서입니다신분증 대신 휴대전화에 모바일 건강보험증을 설치해서 그걸 병원에 보여 줘도 됩니다 그런데이 모바일다른 사람의 휴대전화 해도 쉽게 설치할 수 있고 또 그걸 병원이 적발하기 어렵다는 사실이 저희 취재 결과 확인됐습니다기자의 단독 보도입니다 신분증 지참 필수 란 안내 포스터가 붙은 한내과의원 의원 협조를 미리 받아모바일 건강보험증으로 진료 접수를 해 봤습니다 건강보험증 qr 코드를 병원 기기로 인식하자 건강 보험 자격 확인이 되고 문제 없이완료됐습니다 하지만 기자가 제시한 모바일 건강보험증은 본인이 아닌 동료의 것입니다 타인 명의의 건강보험증을 병원에 제출했는데걸러내지 못한 겁니다 어떻게 이게 가능한걸까 모바일 건강보험증 앱은 휴대 전화 번호를 입력한뒤 인\n"
     ]
    },
    {
     "name": "stderr",
     "output_type": "stream",
     "text": [
      "You are using the default legacy behaviour of the <class 'transformers.models.t5.tokenization_t5.T5Tokenizer'>. This is expected, and simply means that the `legacy` (previous) behavior will be used so nothing changes for you. If you want to use the new behaviour, set `legacy=False`. This should only be set if you understand what it means, and thoroughly read the reason why this was added as explained in https://github.com/huggingface/transformers/pull/24565\n",
      "Asking to truncate to max_length but no maximum length is provided and the model has no predefined maximum length. Default to no truncation.\n",
      "Summarizing chunks: 100%|██████████| 5/5 [00:55<00:00, 11.19s/it]\n"
     ]
    },
    {
     "name": "stdout",
     "output_type": "stream",
     "text": [
      "Summary: 오늘은 영국 공영방송 BBC 뉴스의 한국어 라디오, BBC코리아 방송의 2018년 5월 29일 보도입니다 환자가 건강보험 자격이 있는지 혹시 다른 사람 명의로 진료받는 건 아닌지 확인하기 위해서 모바일 건강 보험증을 설치해서 그걸 병원에 보여 줘도 될 수 있다 신종 코로나바이러스 감염증(코로나19) 사태로 인한 본인 강화 제도가 다음 주부터 시행될 것으로 보인다 통신사 인증을 둘러싼 논란이 일고 있다 이에 대한 대책마련이 필요하다고 보건복지부 관계자가 말했다 그러나 이런 내용이 없으면 서울에서 아파트 전세 구하기가 갈수록 어려워지면서 전셋값이계속 오르고 있는 것으로 나타났다 공급 부족에 대한 고민이 커지고 있기 때문에 이번 주 도쿄올림픽 개최를 앞두고 이호건 기자가 집회 후네 번째 긴 상승을 기록했다 지난해 제주에서 시작된 벌마늘 피해가 전남 경남 등 등으로 빠르게 확산하면서 정부는 농업 죄로 인정하고 재난지원금 지급에 나섰습니다 올해 국산 마늘 생산량은 평년보다 줄어들 수밖에 없는 상황 이번 달이면 파로 농산물의 가격이 좀 이중섭 전 국방부장관이 4차혁명 공판에서 증인으로 불러 달라는 박대령 박병직 요청을 받고 오늘 증인 채택 한 지은이는으로 재판에 나가서 증언 하겠다고 밝혔습니다 대통령은 언제 판이 없어 특검법 수영을 초과했기 때문에 장관은\n",
      "Converted video saved to: videos/shorts_output.mp4\n",
      "Summary: 오늘은 영국 공영방송 BBC 뉴스의 한국어 라디오, BBC코리아 방송의 2018년 5월 29일 보도입니다 환자가 건강보험 자격이 있는지 혹시 다른 사람 명의로 진료받는 건 아닌지 확인하기 위해서 모바일 건강 보험증을 설치해서 그걸 병원에 보여 줘도 될 수 있다 신종 코로나바이러스 감염증(코로나19) 사태로 인한 본인 강화 제도가 다음 주부터 시행될 것으로 보인다 통신사 인증을 둘러싼 논란이 일고 있다 이에 대한 대책마련이 필요하다고 보건복지부 관계자가 말했다 그러나 이런 내용이 없으면 서울에서 아파트 전세 구하기가 갈수록 어려워지면서 전셋값이계속 오르고 있는 것으로 나타났다 공급 부족에 대한 고민이 커지고 있기 때문에 이번 주 도쿄올림픽 개최를 앞두고 이호건 기자가 집회 후네 번째 긴 상승을 기록했다 지난해 제주에서 시작된 벌마늘 피해가 전남 경남 등 등으로 빠르게 확산하면서 정부는 농업 죄로 인정하고 재난지원금 지급에 나섰습니다 올해 국산 마늘 생산량은 평년보다 줄어들 수밖에 없는 상황 이번 달이면 파로 농산물의 가격이 좀 이중섭 전 국방부장관이 4차혁명 공판에서 증인으로 불러 달라는 박대령 박병직 요청을 받고 오늘 증인 채택 한 지은이는으로 재판에 나가서 증언 하겠다고 밝혔습니다 대통령은 언제 판이 없어 특검법 수영을 초과했기 때문에 장관은\n",
      "Output video path: videos/shorts_output.mp4\n"
     ]
    }
   ],
   "source": [
    "# 개별 단계 테스트 함수\n",
    "def test_transcribe_audio(file_path, language_code):\n",
    "    transcript = transcribe_audio(file_path, language_code)\n",
    "    print(\"Transcript:\", transcript[:500])  # 처음 500자만 출력\n",
    "    return transcript\n",
    "\n",
    "def test_generate_summary(transcript, duration):\n",
    "    summary = generate_summary(transcript, max_length=duration)\n",
    "    print(\"Summary:\", summary)\n",
    "    return summary\n",
    "\n",
    "def test_convert_to_vertical(file_path, output_video_path):\n",
    "    convert_to_vertical(file_path, output_video_path)\n",
    "    print(\"Converted video saved to:\", output_video_path)\n",
    "    \n",
    "file_path = \"videos/news1.mp4\"  # 여기에 테스트할 비디오 파일 경로를 넣으세요.\n",
    "language_code = \"ko-KR\"  # 한국어(Korean) 언어 코드\n",
    "duration = 120  # 요약할 최대 길이 (초)\n",
    "output_video_path = \"videos/shorts_output.mp4\"  # 출력 비디오 파일 경로\n",
    "\n",
    "# Step 1: Transcribe audio\n",
    "transcript = test_transcribe_audio(file_path, language_code)\n",
    "\n",
    "# Step 2: Generate summary\n",
    "summary = test_generate_summary(transcript, duration)\n",
    "\n",
    "# Step 3: Convert to vertical video\n",
    "test_convert_to_vertical(file_path, output_video_path)\n",
    "\n",
    "print(\"Summary:\", summary)\n",
    "print(\"Output video path:\", output_video_path)\n"
   ],
   "metadata": {
    "collapsed": false,
    "ExecuteTime": {
     "end_time": "2024-06-01T14:30:05.555008Z",
     "start_time": "2024-06-01T14:22:58.888017Z"
    }
   },
   "id": "6c27322f7e6498d9"
  }
 ],
 "metadata": {
  "kernelspec": {
   "display_name": "Python 3",
   "language": "python",
   "name": "python3"
  },
  "language_info": {
   "codemirror_mode": {
    "name": "ipython",
    "version": 2
   },
   "file_extension": ".py",
   "mimetype": "text/x-python",
   "name": "python",
   "nbconvert_exporter": "python",
   "pygments_lexer": "ipython2",
   "version": "2.7.6"
  }
 },
 "nbformat": 4,
 "nbformat_minor": 5
}
